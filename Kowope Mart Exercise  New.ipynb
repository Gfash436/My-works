{
 "cells": [
  {
   "cell_type": "code",
   "execution_count": null,
   "metadata": {},
   "outputs": [],
   "source": [
    "#Importing the necessary libraries\n",
    "import pandas as pd\n",
    "import numpy as np\n",
    "import matplotlib.pyplot as plt\n",
    "import seaborn as sns\n",
    "%matplotlib inline\n",
    "\n",
    "from scipy.stats import skew\n",
    "\n",
    "pd.set_option('display.max_columns', None)\n",
    "\n",
    "import copy"
   ]
  },
  {
   "cell_type": "code",
   "execution_count": null,
   "metadata": {},
   "outputs": [],
   "source": [
    "#Reading the data files\n",
    "train = pd.read_csv('train.csv', index_col='Applicant_ID')\n",
    "\n",
    "train.head()"
   ]
  },
  {
   "cell_type": "code",
   "execution_count": null,
   "metadata": {},
   "outputs": [],
   "source": [
    "train.shape "
   ]
  },
  {
   "cell_type": "code",
   "execution_count": null,
   "metadata": {},
   "outputs": [],
   "source": [
    "test = pd.read_csv('test.csv', index_col='Applicant_ID')\n",
    "\n",
    "test.head()"
   ]
  },
  {
   "cell_type": "code",
   "execution_count": null,
   "metadata": {},
   "outputs": [],
   "source": [
    "train.isna().sum()#Check if missing values exists"
   ]
  },
  {
   "cell_type": "code",
   "execution_count": null,
   "metadata": {},
   "outputs": [],
   "source": [
    "#Handling Missing Values\n",
    "train = train.fillna(-999)\n",
    "test = test.fillna(-999)"
   ]
  },
  {
   "cell_type": "code",
   "execution_count": null,
   "metadata": {},
   "outputs": [],
   "source": [
    "train.isnull().sum()"
   ]
  },
  {
   "cell_type": "code",
   "execution_count": null,
   "metadata": {},
   "outputs": [],
   "source": [
    "train.isnull().sum().any()"
   ]
  },
  {
   "cell_type": "code",
   "execution_count": null,
   "metadata": {},
   "outputs": [],
   "source": [
    "#Join train and test dataset\n",
    "data = pd.concat([train.drop(\"default_status\", axis=1),test], axis=0) "
   ]
  },
  {
   "cell_type": "code",
   "execution_count": null,
   "metadata": {},
   "outputs": [],
   "source": [
    "#Handling the Categorical data with LabelEncoder encoding\n",
    "\n",
    "from sklearn.preprocessing import LabelEncoder\n",
    "\n",
    "lb = LabelEncoder()\n",
    "data['form_field47'] = lb.fit_transform(data['form_field47'])\n",
    "\n",
    "data.head(3)"
   ]
  },
  {
   "cell_type": "code",
   "execution_count": null,
   "metadata": {},
   "outputs": [],
   "source": [
    "#Seperating the Target from the Predictors\n",
    "y = train[[\"default_status\"]]\n",
    "\n",
    "y.head(3)"
   ]
  },
  {
   "cell_type": "code",
   "execution_count": null,
   "metadata": {},
   "outputs": [],
   "source": [
    "#Handling the Categorical data with LabelEncoder encoding\n",
    "\n",
    "from sklearn.preprocessing import LabelEncoder\n",
    "\n",
    "lb = LabelEncoder()\n",
    "y = pd.DataFrame(lb.fit_transform(y))\n",
    "\n",
    "y.head(3)"
   ]
  },
  {
   "cell_type": "code",
   "execution_count": null,
   "metadata": {},
   "outputs": [],
   "source": [
    "X = data.iloc[:56000,:]\n",
    "X_test = data.iloc[-24000:, :]"
   ]
  },
  {
   "cell_type": "code",
   "execution_count": null,
   "metadata": {},
   "outputs": [],
   "source": [
    "X.shape, X_test.shape, y.shape"
   ]
  },
  {
   "cell_type": "code",
   "execution_count": null,
   "metadata": {},
   "outputs": [],
   "source": [
    "#Scaling using MinMaxScaler\n",
    "from sklearn.preprocessing import MinMaxScaler\n",
    "scaler = MinMaxScaler()\n",
    "\n",
    "X = pd.DataFrame(scaler.fit_transform(X))\n",
    "X_test = pd.DataFrame(scaler.fit_transform(X_test))"
   ]
  },
  {
   "cell_type": "code",
   "execution_count": null,
   "metadata": {},
   "outputs": [],
   "source": [
    "# Normal Train test split\n",
    "from sklearn.model_selection import train_test_split\n",
    "\n",
    "X_train, X_val, y_train, y_val = train_test_split(X, y[0], test_size=0.3, random_state=42)"
   ]
  },
  {
   "cell_type": "code",
   "execution_count": null,
   "metadata": {},
   "outputs": [],
   "source": [
    "#Handling skewed features using log transformation\n",
    "skew_features = np.abs(data.apply(lambda x: skew(x)).sort_values(ascending=False))\n",
    "skew_features[:10] # Displaying top ten skewed features"
   ]
  },
  {
   "cell_type": "code",
   "execution_count": null,
   "metadata": {},
   "outputs": [],
   "source": [
    "# Filtering skewed features.\n",
    "high_skew = skew_features[skew_features > 1]\n",
    "# Taking indexes of high skew.\n",
    "skew_index = high_skew.index\n",
    "#Applying log transformation\n",
    "for i in skew_index:\n",
    "    data[i] = np.log1p(data[i])"
   ]
  },
  {
   "cell_type": "code",
   "execution_count": null,
   "metadata": {},
   "outputs": [],
   "source": [
    "# Creating new features  based on previous observations.\n",
    "data['Total14&15'] = data['form_field14'] + data['form_field15']\n",
    "data['Total13&14'] = data['form_field14'] - data['form_field13']\n"
   ]
  },
  {
   "cell_type": "code",
   "execution_count": null,
   "metadata": {},
   "outputs": [],
   "source": [
    "#Importing Other Necessary Libraries\n",
    "from catboost import CatBoostClassifier\n",
    "from lightgbm import LGBMClassifier\n",
    "from sklearn.ensemble import RandomForestClassifier\n",
    "from sklearn.model_selection import KFold, StratifiedKFold\n",
    "from sklearn.ensemble import VotingClassifier\n",
    "from sklearn.metrics import roc_auc_score"
   ]
  },
  {
   "cell_type": "code",
   "execution_count": null,
   "metadata": {},
   "outputs": [],
   "source": [
    "# Creating instances for both Kfold and StratifiedKfold\n",
    "splits = 25\n",
    "\n",
    "skfold = StratifiedKFold(n_splits=splits , random_state=419, shuffle=True)"
   ]
  },
  {
   "cell_type": "code",
   "execution_count": null,
   "metadata": {},
   "outputs": [],
   "source": [
    "#Models used for Voting\n",
    "cat = CatBoostClassifier(random_state=419, verbose=False, thread_count=-1)\n",
    "rfc = RandomForestClassifier(n_estimators=500, random_state=419, verbose=False, n_jobs=-1)\n",
    "lgb = LGBMClassifier(n_jobs=-1)\n",
    "catnorm = CatBoostClassifier(n_estimators=600, thread_count=-1, verbose=0)"
   ]
  },
  {
   "cell_type": "code",
   "execution_count": null,
   "metadata": {
    "scrolled": true
   },
   "outputs": [],
   "source": [
    "\n",
    "def stratified_vote():\n",
    "    scores, preds = [], []\n",
    "    i = 1\n",
    "    for train_split, val_split in skfold.split(X, y):\n",
    "        x_train, x_test, y_train, y_test = X.iloc[train_split],X.iloc[val_split], y.iloc[train_split],y.iloc[val_split]\n",
    "        \n",
    "        vote = VotingClassifier(estimators=[('model1',cat),('model3',rfc),('model4',lgb)], voting='soft')\n",
    "        vote.fit(x_train, y_train)\n",
    "        \n",
    "        #To see how the model performs after splitting\n",
    "        score = roc_auc_score(y_test,vote.predict_proba(x_test)[:,1])\n",
    "        pred = vote.predict_proba(X_test)[:,1]\n",
    "        scores.append(score)\n",
    "        preds.append(pred)\n",
    "        print('Roc for {} split: '.format(i), score)\n",
    "        i += 1\n",
    "    print('final absolute Roc: ', np.mean(scores))\n",
    "    final_predictions = np.mean(preds, axis=0)\n",
    "    return final_predictions\n",
    "\n",
    "final_predictions = stratified_vote()\n",
    "        "
   ]
  },
  {
   "cell_type": "code",
   "execution_count": null,
   "metadata": {},
   "outputs": [],
   "source": [
    "output = pd.read_csv(\"SampleSubmission.csv\")\n",
    "\n",
    "output.head(3)"
   ]
  },
  {
   "cell_type": "code",
   "execution_count": null,
   "metadata": {},
   "outputs": [],
   "source": [
    "output.default_status = final_predictions"
   ]
  },
  {
   "cell_type": "code",
   "execution_count": null,
   "metadata": {},
   "outputs": [],
   "source": [
    "output.to_csv(\"Submission7.csv\", index=False)"
   ]
  },
  {
   "cell_type": "code",
   "execution_count": null,
   "metadata": {},
   "outputs": [],
   "source": [
    "output.head()"
   ]
  },
  {
   "cell_type": "code",
   "execution_count": null,
   "metadata": {},
   "outputs": [],
   "source": []
  }
 ],
 "metadata": {
  "kernelspec": {
   "display_name": "Python 3",
   "language": "python",
   "name": "python3"
  },
  "language_info": {
   "codemirror_mode": {
    "name": "ipython",
    "version": 3
   },
   "file_extension": ".py",
   "mimetype": "text/x-python",
   "name": "python",
   "nbconvert_exporter": "python",
   "pygments_lexer": "ipython3",
   "version": "3.7.4"
  }
 },
 "nbformat": 4,
 "nbformat_minor": 2
}
